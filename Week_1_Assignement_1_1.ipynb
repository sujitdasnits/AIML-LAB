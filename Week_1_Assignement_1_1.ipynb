{
  "nbformat": 4,
  "nbformat_minor": 0,
  "metadata": {
    "colab": {
      "name": "Week-1 Assignement_1_1.ipynb",
      "provenance": [],
      "authorship_tag": "ABX9TyNSNb61cVwCLISWnn85zg6J",
      "include_colab_link": true
    },
    "kernelspec": {
      "name": "python3",
      "display_name": "Python 3"
    },
    "language_info": {
      "name": "python"
    }
  },
  "cells": [
    {
      "cell_type": "markdown",
      "metadata": {
        "id": "view-in-github",
        "colab_type": "text"
      },
      "source": [
        "<a href=\"https://colab.research.google.com/github/sujitdasnits/AIML-LAB/blob/main/Week_1_Assignement_1_1.ipynb\" target=\"_parent\"><img src=\"https://colab.research.google.com/assets/colab-badge.svg\" alt=\"Open In Colab\"/></a>"
      ]
    },
    {
      "cell_type": "markdown",
      "source": [
        "We will NumPy python Library and its various operations.\n",
        "Introduction: \n",
        "1.   NumPy is a python Library used for working with arrays.\n",
        "2.   NumPy arrays are stored at one continuous place in memory unlike lists, so processes can access and manipulate them very efficiently. This behavior is called locality of reference in computer science.\n",
        "3. Syntax import numpy as np\n",
        "\n"
      ],
      "metadata": {
        "id": "6EMP1M1wCdhl"
      }
    },
    {
      "cell_type": "code",
      "source": [
        "#import numpy and create 1-D array\n",
        "import numpy as np\n",
        "a = np.array([1,2,3,4,5,6,7])\n",
        "print(a)"
      ],
      "metadata": {
        "colab": {
          "base_uri": "https://localhost:8080/"
        },
        "id": "qf9gdIyqDWaC",
        "outputId": "a3f752e2-966d-4694-c0e4-a6ec15675d5d"
      },
      "execution_count": null,
      "outputs": [
        {
          "output_type": "stream",
          "name": "stdout",
          "text": [
            "[1 2 3 4 5 6 7]\n"
          ]
        }
      ]
    },
    {
      "cell_type": "code",
      "source": [
        "#numpy version \n",
        "print(np.__version__)"
      ],
      "metadata": {
        "colab": {
          "base_uri": "https://localhost:8080/"
        },
        "id": "aS_BOtH7G9JD",
        "outputId": "2108aed1-8832-475c-cf16-c5fad60df3bd"
      },
      "execution_count": null,
      "outputs": [
        {
          "output_type": "stream",
          "name": "stdout",
          "text": [
            "1.21.6\n"
          ]
        }
      ]
    },
    {
      "cell_type": "code",
      "source": [
        "#Check Type\n",
        "print(a.dtype)\n",
        "print(type(a))"
      ],
      "metadata": {
        "colab": {
          "base_uri": "https://localhost:8080/"
        },
        "id": "f27LOlSgHgOi",
        "outputId": "9306a34f-f84b-4970-ef52-2f46a909a418"
      },
      "execution_count": null,
      "outputs": [
        {
          "output_type": "stream",
          "name": "stdout",
          "text": [
            "int64\n",
            "<class 'numpy.ndarray'>\n"
          ]
        }
      ]
    },
    {
      "cell_type": "code",
      "source": [
        "# 2-D and 3-D arrays\n",
        "#2-D array\n",
        "c = np.array([[1, 2, 3], [4, 5, 6]])\n",
        "#3-D array\n",
        "d = np.array([[[1, 2, 3], [4, 5, 6]], [[1, 2, 3], [4, 5, 6]]])\n",
        "#check dimension\n",
        "print('The dimension of array c:',c.ndim)\n",
        "print('The dimension of array d:',d.ndim)\n",
        "print('Display array c:\\n', c)\n",
        "print('Display array d:\\n', d)"
      ],
      "metadata": {
        "colab": {
          "base_uri": "https://localhost:8080/"
        },
        "id": "RY6bKnqRMzCZ",
        "outputId": "f74e7d1d-3a92-4160-ec25-548f6e1e2d4b"
      },
      "execution_count": null,
      "outputs": [
        {
          "output_type": "stream",
          "name": "stdout",
          "text": [
            "The dimension of array c: 2\n",
            "The dimension of array d: 3\n",
            "Display array c:\n",
            " [[1 2 3]\n",
            " [4 5 6]]\n",
            "Display array d:\n",
            " [[[1 2 3]\n",
            "  [4 5 6]]\n",
            "\n",
            " [[1 2 3]\n",
            "  [4 5 6]]]\n"
          ]
        }
      ]
    },
    {
      "cell_type": "code",
      "source": [
        "#byte size of each elements\n",
        "print(c.itemsize)"
      ],
      "metadata": {
        "colab": {
          "base_uri": "https://localhost:8080/"
        },
        "id": "JS0RJZLqLQqQ",
        "outputId": "4f6ce71c-a86a-4d45-b1df-82f3b417d37f"
      },
      "execution_count": null,
      "outputs": [
        {
          "output_type": "stream",
          "name": "stdout",
          "text": [
            "8\n"
          ]
        }
      ]
    },
    {
      "cell_type": "code",
      "source": [
        "#size of numpy array\n",
        "d.size"
      ],
      "metadata": {
        "colab": {
          "base_uri": "https://localhost:8080/"
        },
        "id": "8nL0O8ewNtTc",
        "outputId": "b97f1fe7-9514-485b-e621-530d972f1957"
      },
      "execution_count": null,
      "outputs": [
        {
          "output_type": "execute_result",
          "data": {
            "text/plain": [
              "12"
            ]
          },
          "metadata": {},
          "execution_count": 30
        }
      ]
    },
    {
      "cell_type": "code",
      "source": [
        "#Shape of an array (Rows and columns)\n",
        "c.shape"
      ],
      "metadata": {
        "colab": {
          "base_uri": "https://localhost:8080/"
        },
        "id": "QB2jzojpN_Sv",
        "outputId": "e4713552-a200-465f-cc82-45f8c0291e16"
      },
      "execution_count": null,
      "outputs": [
        {
          "output_type": "execute_result",
          "data": {
            "text/plain": [
              "(2, 3)"
            ]
          },
          "metadata": {},
          "execution_count": 31
        }
      ]
    },
    {
      "cell_type": "code",
      "source": [
        "#Reshape\n",
        "c_reshape = c.reshape(3,2)\n",
        "print(c_reshape.shape)\n",
        "print(c_reshape)"
      ],
      "metadata": {
        "colab": {
          "base_uri": "https://localhost:8080/"
        },
        "id": "P_wVkZFeOTLW",
        "outputId": "78696106-ed61-4805-a746-84dfbeb896e3"
      },
      "execution_count": null,
      "outputs": [
        {
          "output_type": "stream",
          "name": "stdout",
          "text": [
            "(3, 2)\n",
            "[[1 2]\n",
            " [3 4]\n",
            " [5 6]]\n"
          ]
        }
      ]
    },
    {
      "cell_type": "code",
      "source": [
        "#Slicing: Extracting a particular set of elements from an array\n",
        "print(c)\n",
        "print(c[0:1, 0:2])\n"
      ],
      "metadata": {
        "colab": {
          "base_uri": "https://localhost:8080/"
        },
        "id": "LSdPKcACPFjq",
        "outputId": "0748a0c8-4bb8-4cca-f143-9ee857f46570"
      },
      "execution_count": null,
      "outputs": [
        {
          "output_type": "stream",
          "name": "stdout",
          "text": [
            "[[1 2 3]\n",
            " [4 5 6]]\n",
            "[[1 2]]\n"
          ]
        }
      ]
    },
    {
      "cell_type": "code",
      "source": [
        "#Array Reshape 1D to 2D\n",
        "ar_1D = np.array([1, 2, 3, 4, 5, 6, 7, 8, 9, 10, 11, 12])\n",
        "\n",
        "ar_2D = ar_1D.reshape(4, 3)\n",
        "print(ar_2D)"
      ],
      "metadata": {
        "colab": {
          "base_uri": "https://localhost:8080/"
        },
        "id": "BWeEN8euJ4kw",
        "outputId": "5e739672-7b50-410c-a316-959c174cd363"
      },
      "execution_count": null,
      "outputs": [
        {
          "output_type": "stream",
          "name": "stdout",
          "text": [
            "[[ 1  2  3]\n",
            " [ 4  5  6]\n",
            " [ 7  8  9]\n",
            " [10 11 12]]\n"
          ]
        }
      ]
    },
    {
      "cell_type": "code",
      "source": [
        "# Array Reshape 1D to 3D\n",
        "#The outermost dimension will have 2 arrays that contains 3 arrays, each with 2 elements\n",
        "ar_3D = ar_1D.reshape(2, 3, 2)\n",
        "print(ar_3D)"
      ],
      "metadata": {
        "colab": {
          "base_uri": "https://localhost:8080/"
        },
        "id": "QookTmo4KbEe",
        "outputId": "e4b24292-9d97-40cb-f631-122a35eec899"
      },
      "execution_count": null,
      "outputs": [
        {
          "output_type": "stream",
          "name": "stdout",
          "text": [
            "[[[ 1  2]\n",
            "  [ 3  4]\n",
            "  [ 5  6]]\n",
            "\n",
            " [[ 7  8]\n",
            "  [ 9 10]\n",
            "  [11 12]]]\n"
          ]
        }
      ]
    },
    {
      "cell_type": "code",
      "source": [
        "#Array Join\n",
        "# Join of 1D arrays\n",
        "a1 = np.array([1,2,3,4])\n",
        "a2 = np.array([5,6,7,8])\n",
        "a_join = np.concatenate((a1,a2))\n",
        "print(a_join)"
      ],
      "metadata": {
        "colab": {
          "base_uri": "https://localhost:8080/"
        },
        "id": "DLpDCOkwLO_z",
        "outputId": "df5c7b43-2dbf-4db5-f20f-6c5c857703a9"
      },
      "execution_count": null,
      "outputs": [
        {
          "output_type": "stream",
          "name": "stdout",
          "text": [
            "[1 2 3 4 5 6 7 8]\n"
          ]
        }
      ]
    },
    {
      "cell_type": "code",
      "source": [
        "#Array Join\n",
        "# Join of 2D arrays\n",
        "a12 = np.array([[1, 2], [3, 4]])\n",
        "a22 = np.array([[5, 6], [7, 8]])\n",
        "a_join = np.concatenate((a12,a22), axis=1)\n",
        "print(a_join)"
      ],
      "metadata": {
        "colab": {
          "base_uri": "https://localhost:8080/"
        },
        "id": "_tGwRj26MhiG",
        "outputId": "e6396482-9e78-466e-dfc8-cef7605c4e0e"
      },
      "execution_count": null,
      "outputs": [
        {
          "output_type": "stream",
          "name": "stdout",
          "text": [
            "[[1 2 5 6]\n",
            " [3 4 7 8]]\n"
          ]
        }
      ]
    },
    {
      "cell_type": "code",
      "source": [
        "#Split the array\n",
        "a_31 = np.array([1, 2, 3, 5])\n",
        "\n",
        "a_31spli = np.array_split(a_31, 3)\n",
        "\n",
        "print(a_31spli)"
      ],
      "metadata": {
        "colab": {
          "base_uri": "https://localhost:8080/"
        },
        "id": "rs3cZNPiQX1Y",
        "outputId": "6874f08f-63dd-433c-82b9-7537020e5877"
      },
      "execution_count": null,
      "outputs": [
        {
          "output_type": "stream",
          "name": "stdout",
          "text": [
            "[array([1, 2]), array([3]), array([5])]\n"
          ]
        }
      ]
    },
    {
      "cell_type": "code",
      "source": [
        "#searching in an array\n",
        "#print index of element 4\n",
        "arr = np.array([1, 2, 3, 4, 5, 4, 4])\n",
        "\n",
        "x = np.where(arr == 4)\n",
        "print(x)"
      ],
      "metadata": {
        "colab": {
          "base_uri": "https://localhost:8080/"
        },
        "id": "gqAVBUP-RBQZ",
        "outputId": "f540135a-d20f-4645-850c-d4a1e5613bfe"
      },
      "execution_count": null,
      "outputs": [
        {
          "output_type": "stream",
          "name": "stdout",
          "text": [
            "(array([3, 5, 6]),)\n"
          ]
        }
      ]
    },
    {
      "cell_type": "code",
      "source": [
        "#search where values are even\n",
        "arr = np.array([1, 2, 3, 4, 5, 6, 7, 8])\n",
        "\n",
        "x = np.where(arr%2 == 0)\n",
        "y = np.where(arr%2 == 1)\n",
        "print('Even values are present at:',x)\n",
        "print('Odd values are present at:',y)"
      ],
      "metadata": {
        "colab": {
          "base_uri": "https://localhost:8080/"
        },
        "id": "uh4evARdSBqH",
        "outputId": "2ff81da6-831c-4553-b73f-7155beaf7679"
      },
      "execution_count": null,
      "outputs": [
        {
          "output_type": "stream",
          "name": "stdout",
          "text": [
            "Even values are present at: (array([1, 3, 5, 7]),)\n",
            "Odd values are present at: (array([0, 2, 4, 6]),)\n"
          ]
        }
      ]
    },
    {
      "cell_type": "code",
      "source": [
        "#Array Sort\n",
        "arr = np.array([6,5,1,2,9,10,36,7])\n",
        "sort_arr = np.sort(arr)\n",
        "dec_sort = -np.sort(-arr)\n",
        "print(' Ascending Sorted Array:',sort_arr)\n",
        "print(' Descending Sorted Array:',dec_sort)"
      ],
      "metadata": {
        "colab": {
          "base_uri": "https://localhost:8080/"
        },
        "id": "6QOP41MmSgFF",
        "outputId": "37331b38-49e6-4aa8-eca2-7dfebdb4a55d"
      },
      "execution_count": null,
      "outputs": [
        {
          "output_type": "stream",
          "name": "stdout",
          "text": [
            " Ascending Sorted Array: [ 1  2  5  6  7  9 10 36]\n",
            " Descending Sorted Array: [36 10  9  7  6  5  2  1]\n"
          ]
        }
      ]
    },
    {
      "cell_type": "code",
      "source": [
        "#Array sorting of 2D array\n",
        "arr_2D = np.array([[5,3,7],[8,10,6],[40,-2,7]])\n",
        "print(arr_2D)\n",
        "sort_arr = np.sort(arr_2D)\n",
        "dec_sort = -np.sort(-arr_2D)\n",
        "print(' Ascending Sorted Array:',sort_arr)\n",
        "print(' Descending Sorted Array:',dec_sort)"
      ],
      "metadata": {
        "colab": {
          "base_uri": "https://localhost:8080/"
        },
        "id": "_8yi44ys5fuW",
        "outputId": "00905715-ccff-4750-f2c9-4a48e5edbf34"
      },
      "execution_count": null,
      "outputs": [
        {
          "output_type": "stream",
          "name": "stdout",
          "text": [
            "[[ 5  3  7]\n",
            " [ 8 10  6]\n",
            " [40 -2  7]]\n",
            " Ascending Sorted Array: [[ 3  5  7]\n",
            " [ 6  8 10]\n",
            " [-2  7 40]]\n",
            " Descending Sorted Array: [[ 7  5  3]\n",
            " [10  8  6]\n",
            " [40  7 -2]]\n"
          ]
        }
      ]
    },
    {
      "cell_type": "code",
      "source": [
        "#Random Number\n",
        "#NumPy offers the random module to work with random numbers.\n",
        "from numpy import random\n",
        "#generate random integer\n",
        "x = random.randint(100)\n",
        "y =random.rand(1)\n",
        "print(x)"
      ],
      "metadata": {
        "colab": {
          "base_uri": "https://localhost:8080/"
        },
        "id": "J1GCAKZDURm9",
        "outputId": "84dab64b-ab59-4145-c7e9-c9c2ce9b0803"
      },
      "execution_count": null,
      "outputs": [
        {
          "output_type": "stream",
          "name": "stdout",
          "text": [
            "79\n"
          ]
        }
      ]
    },
    {
      "cell_type": "code",
      "source": [
        "#Generate a 1-D array containing 5 random integers from 0 to 20:\n",
        "x=random.randint(20, size=(5))\n",
        "#Generate a 1-D array containing 5 random floats:\n",
        "y = random.rand(5)\n",
        "print(y)"
      ],
      "metadata": {
        "colab": {
          "base_uri": "https://localhost:8080/"
        },
        "id": "OcU0O9msVVWU",
        "outputId": "b51e93db-0abb-4050-992c-c63d1c0e131e"
      },
      "execution_count": null,
      "outputs": [
        {
          "output_type": "stream",
          "name": "stdout",
          "text": [
            "[0.90158821 0.31767761 0.51938245 0.33658364 0.55967982]\n"
          ]
        }
      ]
    },
    {
      "cell_type": "code",
      "source": [
        "#Generate a 2-D array with 3 rows, each row containing 5 random integers from 0 to 100:\n",
        "x = random.randint(100, size=(3, 5))\n",
        "#Generate a 2-D array with 3 rows, each row containing 5 random numbers:\n",
        "y = random.rand(3, 5)\n",
        "print(y)"
      ],
      "metadata": {
        "colab": {
          "base_uri": "https://localhost:8080/"
        },
        "id": "euRmg7JzVmO7",
        "outputId": "19c044ed-94d2-4080-f735-0a0ea81885de"
      },
      "execution_count": null,
      "outputs": [
        {
          "output_type": "stream",
          "name": "stdout",
          "text": [
            "[[0.21372189 0.91099043 0.15868796 0.44529524 0.75954566]\n",
            " [0.10158759 0.89065379 0.76884486 0.66470926 0.35161469]\n",
            " [0.59308514 0.43673858 0.88368296 0.2330565  0.41428028]]\n"
          ]
        }
      ]
    },
    {
      "cell_type": "code",
      "source": [
        "'''Random Permutations of Elements\n",
        "The NumPy Random module provides two methods for this: shuffle() and permutation()'''\n",
        "arr = np.array([1, 2, 3, 4, 5])\n",
        "random.shuffle(arr)\n",
        "print(arr)\n",
        "#The shuffle() method makes changes to the original array."
      ],
      "metadata": {
        "colab": {
          "base_uri": "https://localhost:8080/"
        },
        "id": "lsXdbDf4XeDc",
        "outputId": "fd066329-0d0d-44e6-ee6f-a789cc3efae0"
      },
      "execution_count": null,
      "outputs": [
        {
          "output_type": "stream",
          "name": "stdout",
          "text": [
            "[4 3 5 1 2]\n"
          ]
        }
      ]
    },
    {
      "cell_type": "code",
      "source": [
        "#Generate a random permutation of elements of following array:\n",
        "arr = np.array([1, 2, 3, 4, 5])\n",
        "print(random.permutation(arr))\n",
        "#The permutation() method returns a re-arranged array (and leaves the original array un-changed)."
      ],
      "metadata": {
        "colab": {
          "base_uri": "https://localhost:8080/"
        },
        "id": "YWejFxLGX5PT",
        "outputId": "5b01e704-1aa1-48b7-f8e3-678e413f10b0"
      },
      "execution_count": null,
      "outputs": [
        {
          "output_type": "stream",
          "name": "stdout",
          "text": [
            "[5 3 4 1 2]\n"
          ]
        }
      ]
    },
    {
      "cell_type": "code",
      "source": [
        "#Random Shuffle of 2D array\n",
        "arr =np.array([[1,2, 3],[ 4,  5,  6],[ 7,  8,  9],[10, 11, 12]])\n",
        "print(arr)\n",
        "random.shuffle(arr)\n",
        "print(arr)"
      ],
      "metadata": {
        "colab": {
          "base_uri": "https://localhost:8080/"
        },
        "id": "dvMBHKDq8Gwn",
        "outputId": "c82b3640-775c-423c-b89c-ea11a984a5e3"
      },
      "execution_count": null,
      "outputs": [
        {
          "output_type": "stream",
          "name": "stdout",
          "text": [
            "[[ 1  2  3]\n",
            " [ 4  5  6]\n",
            " [ 7  8  9]\n",
            " [10 11 12]]\n",
            "[[ 1  2  3]\n",
            " [ 4  5  6]\n",
            " [10 11 12]\n",
            " [ 7  8  9]]\n"
          ]
        }
      ]
    },
    {
      "cell_type": "code",
      "source": [
        ""
      ],
      "metadata": {
        "id": "8Fou1TJyYN8G"
      },
      "execution_count": null,
      "outputs": []
    },
    {
      "cell_type": "code",
      "source": [
        ""
      ],
      "metadata": {
        "id": "68jaHd0VYCGK"
      },
      "execution_count": null,
      "outputs": []
    },
    {
      "cell_type": "code",
      "source": [
        ""
      ],
      "metadata": {
        "id": "GEhpINUAKqsg"
      },
      "execution_count": null,
      "outputs": []
    }
  ]
}